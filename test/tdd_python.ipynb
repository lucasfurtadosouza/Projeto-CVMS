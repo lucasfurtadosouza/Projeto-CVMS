{
 "cells": [
  {
   "cell_type": "markdown",
   "metadata": {},
   "source": [
    "# Test-Driven Development (TDD) com Python\n",
    "\n",
    "Este notebook demonstra como aplicar TDD usando Python, Pytest e Coverage.\n",
    "\n",
    "## Etapas do TDD\n",
    "1. Escrever um teste que falha.\n",
    "2. Implementar o código para passar no teste.\n",
    "3. Refatorar o código mantendo os testes verdes.\n",
    "---"
   ]
  },
  {
   "cell_type": "code",
   "execution_count": 1,
   "metadata": {},
   "outputs": [],
   "source": [
    "!pip install pytest coverage -q"
   ]
  },
  {
   "cell_type": "markdown",
   "metadata": {},
   "source": [
    "## 🧪 Etapa 1: Escrever os testes antes da implementação"
   ]
  },
  {
   "cell_type": "code",
   "execution_count": 2,
   "metadata": {},
   "outputs": [
    {
     "name": "stdout",
     "output_type": "stream",
     "text": [
      "Writing test_calculadora.py\n"
     ]
    }
   ],
   "source": [
    "%%writefile test_calculadora.py\n",
    "from calculadora import Calculadora\n",
    "\n",
    "def test_soma():\n",
    "    calc = Calculadora()\n",
    "    assert calc.soma(2, 3) == 5\n",
    "\n",
    "def test_subtrai():\n",
    "    calc = Calculadora()\n",
    "    assert calc.subtrai(10, 4) == 6\n",
    "\n",
    "def test_multiplica():\n",
    "    calc = Calculadora()\n",
    "    assert calc.multiplica(2, 3) == 6\n",
    "\n",
    "def test_divide():\n",
    "    calc = Calculadora()\n",
    "    assert calc.divide(10, 2) == 5.0"
   ]
  },
  {
   "cell_type": "markdown",
   "metadata": {},
   "source": [
    "## 💻 Etapa 2: Implementar a classe Calculadora Vazia"
   ]
  },
  {
   "cell_type": "code",
   "execution_count": 3,
   "metadata": {},
   "outputs": [
    {
     "name": "stdout",
     "output_type": "stream",
     "text": [
      "Writing calculadora.py\n"
     ]
    }
   ],
   "source": [
    "%%writefile calculadora.py\n",
    "class Calculadora:\n",
    "    def soma(self, a, b):\n",
    "        return -1\n",
    "    \n",
    "    def subtrai(self, a, b):\n",
    "        return -1\n",
    "\n",
    "    def multiplica(self, a, b):\n",
    "        return -1\n",
    "\n",
    "    def divide(self, a, b):\n",
    "        return -1"
   ]
  },
  {
   "cell_type": "markdown",
   "metadata": {},
   "source": [
    "## ✅ Etapa 3: Executar os testes"
   ]
  },
  {
   "cell_type": "code",
   "execution_count": 4,
   "metadata": {},
   "outputs": [
    {
     "name": "stdout",
     "output_type": "stream",
     "text": [
      "\u001b[1m============================= test session starts =============================\u001b[0m\n",
      "platform win32 -- Python 3.13.0, pytest-8.4.0, pluggy-1.6.0\n",
      "rootdir: c:\\Users\\jeand\\Documents\\GitHub\\Projeto-CVMS\\test\n",
      "collected 4 items\n",
      "\n",
      "test_calculadora.py \u001b[31mF\u001b[0m\u001b[31mF\u001b[0m\u001b[31mF\u001b[0m\u001b[31mF\u001b[0m\u001b[31m                                                 [100%]\u001b[0m\n",
      "\n",
      "================================== FAILURES ===================================\n",
      "\u001b[31m\u001b[1m__________________________________ test_soma __________________________________\u001b[0m\n",
      "\n",
      "    \u001b[0m\u001b[94mdef\u001b[39;49;00m\u001b[90m \u001b[39;49;00m\u001b[92mtest_soma\u001b[39;49;00m():\u001b[90m\u001b[39;49;00m\n",
      "        calc = Calculadora()\u001b[90m\u001b[39;49;00m\n",
      ">       \u001b[94massert\u001b[39;49;00m calc.soma(\u001b[94m2\u001b[39;49;00m, \u001b[94m3\u001b[39;49;00m) == \u001b[94m5\u001b[39;49;00m\u001b[90m\u001b[39;49;00m\n",
      "\u001b[1m\u001b[31mE       assert -1 == 5\u001b[0m\n",
      "\u001b[1m\u001b[31mE        +  where -1 = soma(2, 3)\u001b[0m\n",
      "\u001b[1m\u001b[31mE        +    where soma = <calculadora.Calculadora object at 0x000001416F397380>.soma\u001b[0m\n",
      "\n",
      "\u001b[1m\u001b[31mtest_calculadora.py\u001b[0m:5: AssertionError\n",
      "\u001b[31m\u001b[1m________________________________ test_subtrai _________________________________\u001b[0m\n",
      "\n",
      "    \u001b[0m\u001b[94mdef\u001b[39;49;00m\u001b[90m \u001b[39;49;00m\u001b[92mtest_subtrai\u001b[39;49;00m():\u001b[90m\u001b[39;49;00m\n",
      "        calc = Calculadora()\u001b[90m\u001b[39;49;00m\n",
      ">       \u001b[94massert\u001b[39;49;00m calc.subtrai(\u001b[94m10\u001b[39;49;00m, \u001b[94m4\u001b[39;49;00m) == \u001b[94m6\u001b[39;49;00m\u001b[90m\u001b[39;49;00m\n",
      "\u001b[1m\u001b[31mE       assert -1 == 6\u001b[0m\n",
      "\u001b[1m\u001b[31mE        +  where -1 = subtrai(10, 4)\u001b[0m\n",
      "\u001b[1m\u001b[31mE        +    where subtrai = <calculadora.Calculadora object at 0x000001416F3E82D0>.subtrai\u001b[0m\n",
      "\n",
      "\u001b[1m\u001b[31mtest_calculadora.py\u001b[0m:9: AssertionError\n",
      "\u001b[31m\u001b[1m_______________________________ test_multiplica _______________________________\u001b[0m\n",
      "\n",
      "    \u001b[0m\u001b[94mdef\u001b[39;49;00m\u001b[90m \u001b[39;49;00m\u001b[92mtest_multiplica\u001b[39;49;00m():\u001b[90m\u001b[39;49;00m\n",
      "        calc = Calculadora()\u001b[90m\u001b[39;49;00m\n",
      ">       \u001b[94massert\u001b[39;49;00m calc.multiplica(\u001b[94m2\u001b[39;49;00m, \u001b[94m3\u001b[39;49;00m) == \u001b[94m6\u001b[39;49;00m\u001b[90m\u001b[39;49;00m\n",
      "\u001b[1m\u001b[31mE       assert -1 == 6\u001b[0m\n",
      "\u001b[1m\u001b[31mE        +  where -1 = multiplica(2, 3)\u001b[0m\n",
      "\u001b[1m\u001b[31mE        +    where multiplica = <calculadora.Calculadora object at 0x000001416F3E8550>.multiplica\u001b[0m\n",
      "\n",
      "\u001b[1m\u001b[31mtest_calculadora.py\u001b[0m:13: AssertionError\n",
      "\u001b[31m\u001b[1m_________________________________ test_divide _________________________________\u001b[0m\n",
      "\n",
      "    \u001b[0m\u001b[94mdef\u001b[39;49;00m\u001b[90m \u001b[39;49;00m\u001b[92mtest_divide\u001b[39;49;00m():\u001b[90m\u001b[39;49;00m\n",
      "        calc = Calculadora()\u001b[90m\u001b[39;49;00m\n",
      ">       \u001b[94massert\u001b[39;49;00m calc.divide(\u001b[94m10\u001b[39;49;00m, \u001b[94m2\u001b[39;49;00m) == \u001b[94m5.0\u001b[39;49;00m\u001b[90m\u001b[39;49;00m\n",
      "\u001b[1m\u001b[31mE       assert -1 == 5.0\u001b[0m\n",
      "\u001b[1m\u001b[31mE        +  where -1 = divide(10, 2)\u001b[0m\n",
      "\u001b[1m\u001b[31mE        +    where divide = <calculadora.Calculadora object at 0x000001416F385A70>.divide\u001b[0m\n",
      "\n",
      "\u001b[1m\u001b[31mtest_calculadora.py\u001b[0m:17: AssertionError\n",
      "\u001b[36m\u001b[1m=========================== short test summary info ===========================\u001b[0m\n",
      "\u001b[31mFAILED\u001b[0m test_calculadora.py::\u001b[1mtest_soma\u001b[0m - assert -1 == 5\n",
      "\u001b[31mFAILED\u001b[0m test_calculadora.py::\u001b[1mtest_subtrai\u001b[0m - assert -1 == 6\n",
      "\u001b[31mFAILED\u001b[0m test_calculadora.py::\u001b[1mtest_multiplica\u001b[0m - assert -1 == 6\n",
      "\u001b[31mFAILED\u001b[0m test_calculadora.py::\u001b[1mtest_divide\u001b[0m - assert -1 == 5.0\n",
      "\u001b[31m============================== \u001b[31m\u001b[1m4 failed\u001b[0m\u001b[31m in 0.09s\u001b[0m\u001b[31m ==============================\u001b[0m\n"
     ]
    }
   ],
   "source": [
    "!pytest test_calculadora.py"
   ]
  },
  {
   "cell_type": "markdown",
   "metadata": {},
   "source": [
    "## 💻 Etapa 3: Implementar a classe Calculadora"
   ]
  },
  {
   "cell_type": "code",
   "execution_count": 5,
   "metadata": {},
   "outputs": [
    {
     "name": "stdout",
     "output_type": "stream",
     "text": [
      "Overwriting calculadora.py\n"
     ]
    }
   ],
   "source": [
    "%%writefile calculadora.py\n",
    "class Calculadora:\n",
    "\n",
    "    def soma(self, a, b):\n",
    "        return a + b\n",
    "\n",
    "    def subtrai(self, a, b):\n",
    "        return a - b\n",
    "\n",
    "    def multiplica(self, a, b):\n",
    "        return a * b\n",
    "\n",
    "    def divide(self, a, b):\n",
    "        if b == 0:\n",
    "            raise ValueError(\"Division by zero is not allowed.\")\n",
    "        return a / b"
   ]
  },
  {
   "cell_type": "markdown",
   "metadata": {},
   "source": [
    "## 💻 Etapa 4: Re-executar os Testes com Coverage"
   ]
  },
  {
   "cell_type": "code",
   "execution_count": 6,
   "metadata": {},
   "outputs": [
    {
     "name": "stdout",
     "output_type": "stream",
     "text": [
      "\u001b[1m============================= test session starts =============================\u001b[0m\n",
      "platform win32 -- Python 3.13.0, pytest-8.4.0, pluggy-1.6.0\n",
      "rootdir: c:\\Users\\jeand\\Documents\\GitHub\\Projeto-CVMS\\test\n",
      "collected 4 items\n",
      "\n",
      "test_calculadora.py \u001b[32m.\u001b[0m\u001b[32m.\u001b[0m\u001b[32m.\u001b[0m\u001b[32m.\u001b[0m\u001b[32m                                                 [100%]\u001b[0m\n",
      "\n",
      "\u001b[32m============================== \u001b[32m\u001b[1m4 passed\u001b[0m\u001b[32m in 0.03s\u001b[0m\u001b[32m ==============================\u001b[0m\n",
      "Name                  Stmts   Miss  Cover\n",
      "-----------------------------------------\n",
      "calculadora.py           11      1    91%\n",
      "test_calculadora.py      13      0   100%\n",
      "-----------------------------------------\n",
      "TOTAL                    24      1    96%\n"
     ]
    }
   ],
   "source": [
    "!coverage run -m pytest test_calculadora.py\n",
    "!coverage report"
   ]
  },
  {
   "cell_type": "code",
   "execution_count": 7,
   "metadata": {},
   "outputs": [
    {
     "name": "stdout",
     "output_type": "stream",
     "text": [
      "Wrote HTML report to htmlcov\\index.html\n",
      "Relatório HTML gerado na pasta htmlcov/index.html\n"
     ]
    }
   ],
   "source": [
    "!coverage html\n",
    "print(\"Relatório HTML gerado na pasta htmlcov/index.html\")"
   ]
  }
 ],
 "metadata": {
  "kernelspec": {
   "display_name": "Python 3",
   "language": "python",
   "name": "python3"
  },
  "language_info": {
   "codemirror_mode": {
    "name": "ipython",
    "version": 3
   },
   "file_extension": ".py",
   "mimetype": "text/x-python",
   "name": "python",
   "nbconvert_exporter": "python",
   "pygments_lexer": "ipython3",
   "version": "3.13.0"
  }
 },
 "nbformat": 4,
 "nbformat_minor": 2
}
